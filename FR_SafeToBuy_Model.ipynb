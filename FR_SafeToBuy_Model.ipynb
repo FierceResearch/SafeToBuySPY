{
 "cells": [
  {
   "cell_type": "markdown",
   "metadata": {},
   "source": [
    "# Fierce Research Safe-To-Buy (STB) Model"
   ]
  },
  {
   "cell_type": "markdown",
   "metadata": {},
   "source": [
    "The CBOE Volatility Index is a useful tool to gauge the level of fear in the market. When market participants are worried, they load up on options and drive up the implied volatility (IV), hence why the VIX rises when equities fall. \n",
    "\n",
    "Since the VIX exhibits strong mean-reverting behaviour, the base case is to assume that it will continue to decline until it reaches its mean of 20. However, until then, it may bounce around different ranges. Since the year 2020 is filled with the most unexpected events, it is reasonable to see the VIX being elevated. In fact, with the political uncertainty in the US, Q3 and Q4 may provide us with several spikes in the VIX. \n",
    "\n",
    "I wanted to explore the SPY average returns following a spike in the VIX for the following 1-month and 3-month following the event. I bucketed the VIX in the following groups: Below 15, >15 & <25, >25 & <35, >35 & <45, and >45, and computed the mean return for each range. \n",
    "\n",
    "See below the Fierce Research Safe-To-Buy Model."
   ]
  },
  {
   "cell_type": "code",
   "execution_count": 40,
   "metadata": {},
   "outputs": [],
   "source": [
    "import numpy as np\n",
    "import pandas as pd\n",
    "\n",
    "#Charting\n",
    "import matplotlib.pyplot as plt\n",
    "%matplotlib inline\n",
    "plt.style.use('seaborn-dark-palette')\n",
    "import seaborn as sns\n",
    "\n",
    "#Ignore Warnings\n",
    "import warnings \n",
    "warnings.filterwarnings('ignore')"
   ]
  },
  {
   "cell_type": "code",
   "execution_count": 41,
   "metadata": {},
   "outputs": [],
   "source": [
    "#Import App Key\n",
    "import eikon as tr\n",
    "tr.set_app_key('DEFAULT_CODE_BOOK_APP_KEY')\n",
    "\n",
    "start_date = '0'\n",
    "end_date = '-170'\n",
    "\n",
    "ric1 = 'SPY'\n",
    "ric2 = '.vix'\n",
    "\n",
    "df1, e= tr.get_data([ric1,ric2],['tr.priceclose.date','tr.priceclose'],\n",
    "                       {'SDate':start_date,'EDate':end_date,'Frq':'M'})\n",
    "\n",
    "df1['Date'] = pd.to_datetime(df1['Date'])\n",
    "df1.set_index('Date', inplace=True) \n",
    "df1.index = df1.index.map(lambda t: t.strftime('%Y-%m-%d'))\n",
    "df1.columns = map(str.lower, df1.columns)\n",
    "df1 = df1.drop_duplicates()"
   ]
  },
  {
   "cell_type": "code",
   "execution_count": 42,
   "metadata": {},
   "outputs": [],
   "source": [
    "df1 = df1.pivot(columns='instrument', values=['price close'])\n",
    "df1['spy'] = df1['price close']['SPY']\n",
    "df1['vix'] = df1['price close']['.VIX']"
   ]
  },
  {
   "cell_type": "markdown",
   "metadata": {},
   "source": [
    "#### Calculate SPY Monthly Price Return"
   ]
  },
  {
   "cell_type": "code",
   "execution_count": 43,
   "metadata": {},
   "outputs": [],
   "source": [
    "df1['spy 1mo return'] = (((df1['spy']-df1['spy'].shift(1))/df1['spy'].shift(1))*100).round(2)"
   ]
  },
  {
   "cell_type": "code",
   "execution_count": 44,
   "metadata": {},
   "outputs": [],
   "source": [
    "df1 = df1[['vix','spy 1mo return']]"
   ]
  },
  {
   "cell_type": "code",
   "execution_count": 45,
   "metadata": {},
   "outputs": [],
   "source": [
    "df1 = df1.dropna()"
   ]
  },
  {
   "cell_type": "markdown",
   "metadata": {},
   "source": [
    "#### DataFrame With SPY 1-Month Return and VIX Index"
   ]
  },
  {
   "cell_type": "code",
   "execution_count": 46,
   "metadata": {},
   "outputs": [
    {
     "data": {
      "text/html": [
       "<div>\n",
       "<style scoped>\n",
       "    .dataframe tbody tr th:only-of-type {\n",
       "        vertical-align: middle;\n",
       "    }\n",
       "\n",
       "    .dataframe tbody tr th {\n",
       "        vertical-align: top;\n",
       "    }\n",
       "\n",
       "    .dataframe thead tr th {\n",
       "        text-align: left;\n",
       "    }\n",
       "</style>\n",
       "<table border=\"1\" class=\"dataframe\">\n",
       "  <thead>\n",
       "    <tr>\n",
       "      <th></th>\n",
       "      <th>vix</th>\n",
       "      <th>spy 1mo return</th>\n",
       "    </tr>\n",
       "    <tr>\n",
       "      <th>instrument</th>\n",
       "      <th></th>\n",
       "      <th></th>\n",
       "    </tr>\n",
       "  </thead>\n",
       "  <tbody>\n",
       "    <tr>\n",
       "      <th>2006-06-30</th>\n",
       "      <td>13.08</td>\n",
       "      <td>-0.22</td>\n",
       "    </tr>\n",
       "    <tr>\n",
       "      <th>2006-07-31</th>\n",
       "      <td>14.95</td>\n",
       "      <td>0.49</td>\n",
       "    </tr>\n",
       "    <tr>\n",
       "      <th>2006-08-31</th>\n",
       "      <td>12.31</td>\n",
       "      <td>2.18</td>\n",
       "    </tr>\n",
       "    <tr>\n",
       "      <th>2006-10-31</th>\n",
       "      <td>11.10</td>\n",
       "      <td>3.15</td>\n",
       "    </tr>\n",
       "    <tr>\n",
       "      <th>2006-11-30</th>\n",
       "      <td>10.91</td>\n",
       "      <td>1.99</td>\n",
       "    </tr>\n",
       "    <tr>\n",
       "      <th>...</th>\n",
       "      <td>...</td>\n",
       "      <td>...</td>\n",
       "    </tr>\n",
       "    <tr>\n",
       "      <th>2020-02-28</th>\n",
       "      <td>40.11</td>\n",
       "      <td>-7.92</td>\n",
       "    </tr>\n",
       "    <tr>\n",
       "      <th>2020-03-31</th>\n",
       "      <td>53.54</td>\n",
       "      <td>-13.00</td>\n",
       "    </tr>\n",
       "    <tr>\n",
       "      <th>2020-04-30</th>\n",
       "      <td>34.15</td>\n",
       "      <td>12.70</td>\n",
       "    </tr>\n",
       "    <tr>\n",
       "      <th>2020-05-29</th>\n",
       "      <td>27.51</td>\n",
       "      <td>4.76</td>\n",
       "    </tr>\n",
       "    <tr>\n",
       "      <th>2020-06-30</th>\n",
       "      <td>30.43</td>\n",
       "      <td>1.33</td>\n",
       "    </tr>\n",
       "  </tbody>\n",
       "</table>\n",
       "<p>163 rows × 2 columns</p>\n",
       "</div>"
      ],
      "text/plain": [
       "              vix spy 1mo return\n",
       "instrument                      \n",
       "2006-06-30  13.08          -0.22\n",
       "2006-07-31  14.95           0.49\n",
       "2006-08-31  12.31           2.18\n",
       "2006-10-31  11.10           3.15\n",
       "2006-11-30  10.91           1.99\n",
       "...           ...            ...\n",
       "2020-02-28  40.11          -7.92\n",
       "2020-03-31  53.54         -13.00\n",
       "2020-04-30  34.15          12.70\n",
       "2020-05-29  27.51           4.76\n",
       "2020-06-30  30.43           1.33\n",
       "\n",
       "[163 rows x 2 columns]"
      ]
     },
     "execution_count": 46,
     "metadata": {},
     "output_type": "execute_result"
    }
   ],
   "source": [
    "df1"
   ]
  },
  {
   "cell_type": "markdown",
   "metadata": {},
   "source": [
    "#### Descriptive Statistics\n",
    "\n",
    "The monthly mean for the VIX index is 20, where the average SPY price monthly return is 0.54%."
   ]
  },
  {
   "cell_type": "code",
   "execution_count": 47,
   "metadata": {
    "scrolled": true
   },
   "outputs": [
    {
     "data": {
      "text/html": [
       "<div>\n",
       "<style scoped>\n",
       "    .dataframe tbody tr th:only-of-type {\n",
       "        vertical-align: middle;\n",
       "    }\n",
       "\n",
       "    .dataframe tbody tr th {\n",
       "        vertical-align: top;\n",
       "    }\n",
       "\n",
       "    .dataframe thead tr th {\n",
       "        text-align: left;\n",
       "    }\n",
       "</style>\n",
       "<table border=\"1\" class=\"dataframe\">\n",
       "  <thead>\n",
       "    <tr>\n",
       "      <th></th>\n",
       "      <th>vix</th>\n",
       "      <th>spy 1mo return</th>\n",
       "    </tr>\n",
       "    <tr>\n",
       "      <th>instrument</th>\n",
       "      <th></th>\n",
       "      <th></th>\n",
       "    </tr>\n",
       "  </thead>\n",
       "  <tbody>\n",
       "    <tr>\n",
       "      <th>count</th>\n",
       "      <td>163.00</td>\n",
       "      <td>163.00</td>\n",
       "    </tr>\n",
       "    <tr>\n",
       "      <th>mean</th>\n",
       "      <td>19.59</td>\n",
       "      <td>0.53</td>\n",
       "    </tr>\n",
       "    <tr>\n",
       "      <th>std</th>\n",
       "      <td>8.98</td>\n",
       "      <td>4.34</td>\n",
       "    </tr>\n",
       "    <tr>\n",
       "      <th>min</th>\n",
       "      <td>9.51</td>\n",
       "      <td>-16.52</td>\n",
       "    </tr>\n",
       "    <tr>\n",
       "      <th>25%</th>\n",
       "      <td>13.74</td>\n",
       "      <td>-1.78</td>\n",
       "    </tr>\n",
       "    <tr>\n",
       "      <th>50%</th>\n",
       "      <td>16.95</td>\n",
       "      <td>1.29</td>\n",
       "    </tr>\n",
       "    <tr>\n",
       "      <th>75%</th>\n",
       "      <td>22.90</td>\n",
       "      <td>3.17</td>\n",
       "    </tr>\n",
       "    <tr>\n",
       "      <th>max</th>\n",
       "      <td>59.89</td>\n",
       "      <td>12.70</td>\n",
       "    </tr>\n",
       "  </tbody>\n",
       "</table>\n",
       "</div>"
      ],
      "text/plain": [
       "               vix spy 1mo return\n",
       "instrument                       \n",
       "count       163.00         163.00\n",
       "mean         19.59           0.53\n",
       "std           8.98           4.34\n",
       "min           9.51         -16.52\n",
       "25%          13.74          -1.78\n",
       "50%          16.95           1.29\n",
       "75%          22.90           3.17\n",
       "max          59.89          12.70"
      ]
     },
     "execution_count": 47,
     "metadata": {},
     "output_type": "execute_result"
    }
   ],
   "source": [
    "df1.describe().round(2)"
   ]
  },
  {
   "cell_type": "markdown",
   "metadata": {},
   "source": [
    "#### Distribution, and Fat Tail \n",
    "\n",
    "By looking at charts below, we can observe that the spy monthly return distribution has a fat left tail, and the VIX has a very strong fat right tail."
   ]
  },
  {
   "cell_type": "code",
   "execution_count": 48,
   "metadata": {},
   "outputs": [
    {
     "data": {
      "image/png": "[encoded data removed]",
      "text/plain": [
       "<Figure size 360x360 with 6 Axes>"
      ]
     },
     "metadata": {
      "needs_background": "light"
     },
     "output_type": "display_data"
    }
   ],
   "source": [
    "sns.pairplot(df1);"
   ]
  },
  {
   "cell_type": "markdown",
   "metadata": {},
   "source": [
    "#### SPY Average Monthly Price Return With Positive VS Negative VIX"
   ]
  },
  {
   "cell_type": "code",
   "execution_count": 49,
   "metadata": {},
   "outputs": [],
   "source": [
    "df1['pos/neg'] = np.where(df1['spy 1mo return']>0, 1,0)"
   ]
  },
  {
   "cell_type": "code",
   "execution_count": 50,
   "metadata": {
    "scrolled": true
   },
   "outputs": [
    {
     "data": {
      "text/html": [
       "<div>\n",
       "<style scoped>\n",
       "    .dataframe tbody tr th:only-of-type {\n",
       "        vertical-align: middle;\n",
       "    }\n",
       "\n",
       "    .dataframe tbody tr th {\n",
       "        vertical-align: top;\n",
       "    }\n",
       "\n",
       "    .dataframe thead tr th {\n",
       "        text-align: left;\n",
       "    }\n",
       "\n",
       "    .dataframe thead tr:last-of-type th {\n",
       "        text-align: right;\n",
       "    }\n",
       "</style>\n",
       "<table border=\"1\" class=\"dataframe\">\n",
       "  <thead>\n",
       "    <tr>\n",
       "      <th></th>\n",
       "      <th>vix</th>\n",
       "      <th>spy 1mo return</th>\n",
       "    </tr>\n",
       "    <tr>\n",
       "      <th>instrument</th>\n",
       "      <th></th>\n",
       "      <th></th>\n",
       "    </tr>\n",
       "    <tr>\n",
       "      <th>pos/neg</th>\n",
       "      <th></th>\n",
       "      <th></th>\n",
       "    </tr>\n",
       "  </thead>\n",
       "  <tbody>\n",
       "    <tr>\n",
       "      <th>0</th>\n",
       "      <td>24.70</td>\n",
       "      <td>-3.89</td>\n",
       "    </tr>\n",
       "    <tr>\n",
       "      <th>1</th>\n",
       "      <td>16.77</td>\n",
       "      <td>2.98</td>\n",
       "    </tr>\n",
       "  </tbody>\n",
       "</table>\n",
       "</div>"
      ],
      "text/plain": [
       "              vix spy 1mo return\n",
       "instrument                      \n",
       "pos/neg                         \n",
       "0           24.70          -3.89\n",
       "1           16.77           2.98"
      ]
     },
     "execution_count": 50,
     "metadata": {},
     "output_type": "execute_result"
    }
   ],
   "source": [
    "df1.groupby(['pos/neg']).mean().round(2)"
   ]
  },
  {
   "cell_type": "markdown",
   "metadata": {},
   "source": [
    "#### VIX Grouping "
   ]
  },
  {
   "cell_type": "code",
   "execution_count": 51,
   "metadata": {},
   "outputs": [],
   "source": [
    "vix_group = []\n",
    "for x in df1['vix']:\n",
    "    if x < 15:\n",
    "        vix_group.append('Below 15')\n",
    "    elif x < 25:\n",
    "        vix_group.append('>15<25')\n",
    "    elif x < 35:\n",
    "        vix_group.append('>25<35')\n",
    "    elif x < 45:\n",
    "        vix_group.append('>35<45')\n",
    "    else:\n",
    "        vix_group.append('>45')\n",
    "df1['vix group'] = vix_group\n",
    "df1 = df1[['vix group','vix','spy 1mo return']]"
   ]
  },
  {
   "cell_type": "markdown",
   "metadata": {},
   "source": [
    "#### Shift 1-Month SPY Price Return"
   ]
  },
  {
   "cell_type": "code",
   "execution_count": 52,
   "metadata": {},
   "outputs": [],
   "source": [
    "df1['spy return +1 month'] = df1['spy 1mo return'].shift(-1)\n",
    "df1['spy return +3 months'] = df1['spy 1mo return'].shift(-1)+df1['spy 1mo return'].shift(-2)+df1['spy 1mo return'].shift(-3)"
   ]
  },
  {
   "cell_type": "markdown",
   "metadata": {},
   "source": [
    "The table below represents the vix, the 1-month return, 1-month return 1 month later, and 3-month return 3 months later. \n",
    "\n",
    "When the VIX spikes, the worst current moment return for the S&P 500 is above the 45 level as expected. However, the best 1-month return is observed the following month, which makes sense as the market bounces back from the lows. \n",
    "\n",
    "When looking at the 3-month return 3 months later, the 25-35 level in VIX offers the best return for that period, followed by the 45 level.  "
   ]
  },
  {
   "cell_type": "code",
   "execution_count": 53,
   "metadata": {},
   "outputs": [
    {
     "data": {
      "text/html": [
       "<div>\n",
       "<style scoped>\n",
       "    .dataframe tbody tr th:only-of-type {\n",
       "        vertical-align: middle;\n",
       "    }\n",
       "\n",
       "    .dataframe tbody tr th {\n",
       "        vertical-align: top;\n",
       "    }\n",
       "\n",
       "    .dataframe thead tr th {\n",
       "        text-align: left;\n",
       "    }\n",
       "\n",
       "    .dataframe thead tr:last-of-type th {\n",
       "        text-align: right;\n",
       "    }\n",
       "</style>\n",
       "<table border=\"1\" class=\"dataframe\">\n",
       "  <thead>\n",
       "    <tr>\n",
       "      <th></th>\n",
       "      <th>vix</th>\n",
       "      <th>spy 1mo return</th>\n",
       "      <th>spy return +1 month</th>\n",
       "      <th>spy return +3 months</th>\n",
       "    </tr>\n",
       "    <tr>\n",
       "      <th>instrument</th>\n",
       "      <th></th>\n",
       "      <th></th>\n",
       "      <th></th>\n",
       "      <th></th>\n",
       "    </tr>\n",
       "    <tr>\n",
       "      <th>vix group</th>\n",
       "      <th></th>\n",
       "      <th></th>\n",
       "      <th></th>\n",
       "      <th></th>\n",
       "    </tr>\n",
       "  </thead>\n",
       "  <tbody>\n",
       "    <tr>\n",
       "      <th>&gt;15&lt;25</th>\n",
       "      <td>18.85</td>\n",
       "      <td>0.38</td>\n",
       "      <td>0.57</td>\n",
       "      <td>1.19</td>\n",
       "    </tr>\n",
       "    <tr>\n",
       "      <th>&gt;25&lt;35</th>\n",
       "      <td>28.43</td>\n",
       "      <td>-0.74</td>\n",
       "      <td>1.54</td>\n",
       "      <td>4.52</td>\n",
       "    </tr>\n",
       "    <tr>\n",
       "      <th>&gt;35&lt;45</th>\n",
       "      <td>41.13</td>\n",
       "      <td>-2.26</td>\n",
       "      <td>-4.61</td>\n",
       "      <td>1.96</td>\n",
       "    </tr>\n",
       "    <tr>\n",
       "      <th>&gt;45</th>\n",
       "      <td>53.76</td>\n",
       "      <td>-11.80</td>\n",
       "      <td>3.37</td>\n",
       "      <td>2.09</td>\n",
       "    </tr>\n",
       "    <tr>\n",
       "      <th>Below 15</th>\n",
       "      <td>12.76</td>\n",
       "      <td>2.35</td>\n",
       "      <td>0.63</td>\n",
       "      <td>1.21</td>\n",
       "    </tr>\n",
       "  </tbody>\n",
       "</table>\n",
       "</div>"
      ],
      "text/plain": [
       "              vix spy 1mo return spy return +1 month spy return +3 months\n",
       "instrument                                                               \n",
       "vix group                                                                \n",
       ">15<25      18.85           0.38                0.57                 1.19\n",
       ">25<35      28.43          -0.74                1.54                 4.52\n",
       ">35<45      41.13          -2.26               -4.61                 1.96\n",
       ">45         53.76         -11.80                3.37                 2.09\n",
       "Below 15    12.76           2.35                0.63                 1.21"
      ]
     },
     "execution_count": 53,
     "metadata": {},
     "output_type": "execute_result"
    }
   ],
   "source": [
    "df1.groupby(['vix group']).mean().round(2)"
   ]
  },
  {
   "cell_type": "markdown",
   "metadata": {},
   "source": [
    "In summary, as investors, we should have robust risk management practices to raise cash when the market weakens so that we have the dry powder to buy the dip during the crash. As a result, the best 3-month return occurred when the VIX spiked to the 25-35 area. The VIX is currently trading around 28."
   ]
  },
  {
   "cell_type": "code",
   "execution_count": 54,
   "metadata": {},
   "outputs": [
    {
     "data": {
      "image/png": "[encoded data removed]",
      "text/plain": [
       "<Figure size 720x504 with 1 Axes>"
      ]
     },
     "metadata": {
      "needs_background": "light"
     },
     "output_type": "display_data"
    }
   ],
   "source": [
    "fig = plt.figure(figsize=(10,7))\n",
    "plt.title('VIX and SPY 3-Month Return',size=25)\n",
    "plt.xlabel(' ',size=25)\n",
    "plt.ylabel(' ',size=25)\n",
    "sns.scatterplot(x=df1['vix'],y=df1['spy return +3 months'],hue=df1['vix group'],size=df1['vix group'],sizes=(200,100));"
   ]
  },
  {
   "cell_type": "markdown",
   "metadata": {},
   "source": [
    "Good luck with the market! Guillaume, Fierce Research"
   ]
  },
  {
   "cell_type": "code",
   "execution_count": null,
   "metadata": {},
   "outputs": [],
   "source": []
  }
 ],
 "metadata": {
  "kernelspec": {
   "display_name": "Python 3",
   "language": "python",
   "name": "python3"
  },
  "language_info": {
   "codemirror_mode": {
    "name": "ipython",
    "version": 3
   },
   "file_extension": ".py",
   "mimetype": "text/x-python",
   "name": "python",
   "nbconvert_exporter": "python",
   "pygments_lexer": "ipython3",
   "version": "3.7.4"
  }
 },
 "nbformat": 4,
 "nbformat_minor": 4
}
